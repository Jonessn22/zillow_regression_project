{
 "cells": [
  {
   "cell_type": "markdown",
   "id": "d543d4bd",
   "metadata": {},
   "source": [
    "# Beating the Zestimate® | Predicting Home Values\n",
    "Stephanie N. Jones<br>\n",
    "Data Scientist<br>\n",
    "Codeup | Hopper Cohort<br>\n",
    "Monday, December 13, 2021"
   ]
  },
  {
   "cell_type": "markdown",
   "id": "07ac4daf",
   "metadata": {},
   "source": [
    "## Project Summary\n",
    "<hr>\n",
    "\n",
    "### Project Overview\n",
    "This is an overview of the project.\n",
    "\n",
    "### Deliverables\n",
    "    - Final Report (this notebook) and Presentation\n",
    "    - Github Repository with README.md and reproducible project files\n",
    "    - Python Function Modules (acquire.py and prepare.py, at minimum)\n",
    ">Data Dictionary"
   ]
  },
  {
   "cell_type": "markdown",
   "id": "d40e9097",
   "metadata": {},
   "source": [
    "## Business Goals\n",
    "<hr>\n",
    "\n",
    "### Primary Goal #1 | Predict Home Values\n",
    "Construct Machine Learning model by finding key drivers that predicts property tax assessed values <b>`taxvaluedollarcnt`</b> of Single Family Properties with transactions during 2017\n",
    "\n",
    "### Primary Goal #2 | Beat Zestimate®\n",
    "Improve existing Zillow model for predicting home values \n",
    "\n",
    "### Secondary Goal | Property Locations\n",
    "City and state of each property"
   ]
  },
  {
   "cell_type": "markdown",
   "id": "9b6591dd",
   "metadata": {},
   "source": [
    "## Executive Summary\n",
    "<hr>\n",
    "\n",
    "### Initial Questions and Hypothesis\n",
    ">Question 1?<br>\n",
    "Question 2?<br>\n",
    "Question 3?<br>\n",
    "Question 4?<br>\n",
    "\n",
    ">Initial Hypothesis"
   ]
  },
  {
   "cell_type": "markdown",
   "id": "9a4bad26",
   "metadata": {},
   "source": [
    "### Conclusions\n",
    ">Key findings\n",
    "\n",
    ">Recommendations\n",
    "\n",
    ">Takeaways and Next Steps"
   ]
  },
  {
   "cell_type": "markdown",
   "id": "920c0f04",
   "metadata": {},
   "source": [
    "## Process | Data Science Pipeline\n",
    "<hr>\n",
    "\n",
    "00 Plan<br>\n",
    "01 Acquire<br>\n",
    "02 Prepare<br>\n",
    "03 Explore<br>\n",
    "04 Model<br>\n",
    "05 Evaluate<br>\n",
    "06 Test"
   ]
  },
  {
   "cell_type": "markdown",
   "id": "416bb407",
   "metadata": {},
   "source": [
    "### 00 Plan"
   ]
  },
  {
   "cell_type": "code",
   "execution_count": null,
   "id": "9321ae62",
   "metadata": {},
   "outputs": [],
   "source": []
  },
  {
   "cell_type": "markdown",
   "id": "56dd43ba",
   "metadata": {},
   "source": [
    "### 01 Acquire"
   ]
  },
  {
   "cell_type": "code",
   "execution_count": 10,
   "id": "670ac3aa",
   "metadata": {},
   "outputs": [],
   "source": [
    "# imports\n",
    "import pandas as pd\n",
    "import numpy as np\n",
    "\n",
    "from env import user, password, host\n",
    "\n",
    "import os"
   ]
  },
  {
   "cell_type": "code",
   "execution_count": 7,
   "id": "7b76c0c8",
   "metadata": {},
   "outputs": [],
   "source": [
    "# string with sql db connection credentials\n",
    "sql_connect_str = f'mysql+pymysql://{user}:{password}@{host}/zillow'"
   ]
  },
  {
   "cell_type": "code",
   "execution_count": 8,
   "id": "72488498",
   "metadata": {},
   "outputs": [],
   "source": [
    "# url string to access Zillow database from SQL server\n",
    "url = f'mysql+pymysql://{user}:{password}@{host}/zillow'"
   ]
  },
  {
   "cell_type": "code",
   "execution_count": 28,
   "id": "c78e16e1",
   "metadata": {},
   "outputs": [],
   "source": [
    "# sql query to pull data\n",
    "query = '''\n",
    "SELECT bathroomcnt,\n",
    "        bedroomcnt,\n",
    "        calculatedfinishedsquarefeet,\n",
    "        fips,\n",
    "        regionidzip,\n",
    "        yearbuilt,\n",
    "        taxvaluedollarcnt\n",
    "FROM properties_2017\n",
    "WHERE propertylandusetypeid = 261\n",
    "'''"
   ]
  },
  {
   "cell_type": "markdown",
   "id": "33c1b229",
   "metadata": {},
   "source": [
    "### acquire.py function"
   ]
  },
  {
   "cell_type": "code",
   "execution_count": 36,
   "id": "020ce85b",
   "metadata": {},
   "outputs": [],
   "source": [
    "def acquire_data(file_name):\n",
    "    '''\n",
    "    This function takes in as an argument the .csv file with the raw project data and, if the file exists\n",
    "    locally, writes its contents to a pandas df.\n",
    "    \n",
    "    If the raw project data file does not exist locally, the query and url variables, which are defined \n",
    "    globally in the acquire.py file, are used to access the SQL db with the db credentials and SQL query \n",
    "    of the desired data.\n",
    "    \n",
    "    This function returns a df of the raw queried data. \n",
    "    '''\n",
    "\n",
    "    # if csv file with project data already exists locally, read it into a pandas df\n",
    "    if os.path.isfile(file_name):\n",
    "        return pd.read_csv(file_name)\n",
    "    \n",
    "    # if project data csv file does not exist locally, connect to SQL db and save query as df\n",
    "    else:\n",
    "        return pd.read_sql(query, url)\n",
    "    \n",
    "    "
   ]
  },
  {
   "cell_type": "code",
   "execution_count": 39,
   "id": "151db710",
   "metadata": {
    "scrolled": false
   },
   "outputs": [
    {
     "data": {
      "text/html": [
       "<div>\n",
       "<style scoped>\n",
       "    .dataframe tbody tr th:only-of-type {\n",
       "        vertical-align: middle;\n",
       "    }\n",
       "\n",
       "    .dataframe tbody tr th {\n",
       "        vertical-align: top;\n",
       "    }\n",
       "\n",
       "    .dataframe thead th {\n",
       "        text-align: right;\n",
       "    }\n",
       "</style>\n",
       "<table border=\"1\" class=\"dataframe\">\n",
       "  <thead>\n",
       "    <tr style=\"text-align: right;\">\n",
       "      <th></th>\n",
       "      <th>bathroomcnt</th>\n",
       "      <th>bedroomcnt</th>\n",
       "      <th>calculatedfinishedsquarefeet</th>\n",
       "      <th>fips</th>\n",
       "      <th>regionidzip</th>\n",
       "      <th>yearbuilt</th>\n",
       "      <th>taxvaluedollarcnt</th>\n",
       "    </tr>\n",
       "  </thead>\n",
       "  <tbody>\n",
       "    <tr>\n",
       "      <th>0</th>\n",
       "      <td>0.0</td>\n",
       "      <td>0.0</td>\n",
       "      <td>NaN</td>\n",
       "      <td>6037.0</td>\n",
       "      <td>96337.0</td>\n",
       "      <td>NaN</td>\n",
       "      <td>27516.0</td>\n",
       "    </tr>\n",
       "    <tr>\n",
       "      <th>1</th>\n",
       "      <td>0.0</td>\n",
       "      <td>0.0</td>\n",
       "      <td>NaN</td>\n",
       "      <td>6037.0</td>\n",
       "      <td>97329.0</td>\n",
       "      <td>NaN</td>\n",
       "      <td>10.0</td>\n",
       "    </tr>\n",
       "    <tr>\n",
       "      <th>2</th>\n",
       "      <td>0.0</td>\n",
       "      <td>0.0</td>\n",
       "      <td>NaN</td>\n",
       "      <td>6037.0</td>\n",
       "      <td>97330.0</td>\n",
       "      <td>NaN</td>\n",
       "      <td>10.0</td>\n",
       "    </tr>\n",
       "    <tr>\n",
       "      <th>3</th>\n",
       "      <td>0.0</td>\n",
       "      <td>0.0</td>\n",
       "      <td>NaN</td>\n",
       "      <td>6037.0</td>\n",
       "      <td>97330.0</td>\n",
       "      <td>NaN</td>\n",
       "      <td>2108.0</td>\n",
       "    </tr>\n",
       "    <tr>\n",
       "      <th>4</th>\n",
       "      <td>2.0</td>\n",
       "      <td>4.0</td>\n",
       "      <td>3633.0</td>\n",
       "      <td>6037.0</td>\n",
       "      <td>97329.0</td>\n",
       "      <td>2005.0</td>\n",
       "      <td>296425.0</td>\n",
       "    </tr>\n",
       "  </tbody>\n",
       "</table>\n",
       "</div>"
      ],
      "text/plain": [
       "   bathroomcnt  bedroomcnt  calculatedfinishedsquarefeet    fips  regionidzip  \\\n",
       "0          0.0         0.0                           NaN  6037.0      96337.0   \n",
       "1          0.0         0.0                           NaN  6037.0      97329.0   \n",
       "2          0.0         0.0                           NaN  6037.0      97330.0   \n",
       "3          0.0         0.0                           NaN  6037.0      97330.0   \n",
       "4          2.0         4.0                        3633.0  6037.0      97329.0   \n",
       "\n",
       "   yearbuilt  taxvaluedollarcnt  \n",
       "0        NaN            27516.0  \n",
       "1        NaN               10.0  \n",
       "2        NaN               10.0  \n",
       "3        NaN             2108.0  \n",
       "4     2005.0           296425.0  "
      ]
     },
     "execution_count": 39,
     "metadata": {},
     "output_type": "execute_result"
    }
   ],
   "source": [
    "# variable that will hold raw zillow data\n",
    "raw_zillow = acquire_data('zillow.csv')\n",
    "raw_zillow.head()"
   ]
  },
  {
   "cell_type": "markdown",
   "id": "b151dba9",
   "metadata": {},
   "source": [
    "### 02 Prepare"
   ]
  },
  {
   "cell_type": "code",
   "execution_count": 43,
   "id": "1c169fbb",
   "metadata": {},
   "outputs": [
    {
     "data": {
      "text/plain": [
       "(2152863, 7)"
      ]
     },
     "execution_count": 43,
     "metadata": {},
     "output_type": "execute_result"
    }
   ],
   "source": [
    "raw_zillow.shape"
   ]
  },
  {
   "cell_type": "code",
   "execution_count": 41,
   "id": "dbc91cde",
   "metadata": {},
   "outputs": [
    {
     "name": "stdout",
     "output_type": "stream",
     "text": [
      "<class 'pandas.core.frame.DataFrame'>\n",
      "RangeIndex: 2152863 entries, 0 to 2152862\n",
      "Data columns (total 7 columns):\n",
      " #   Column                        Non-Null Count    Dtype  \n",
      "---  ------                        --------------    -----  \n",
      " 0   bathroomcnt                   2152852 non-null  float64\n",
      " 1   bedroomcnt                    2152852 non-null  float64\n",
      " 2   calculatedfinishedsquarefeet  2144379 non-null  float64\n",
      " 3   fips                          2152863 non-null  float64\n",
      " 4   regionidzip                   2149476 non-null  float64\n",
      " 5   yearbuilt                     2143526 non-null  float64\n",
      " 6   taxvaluedollarcnt             2152370 non-null  float64\n",
      "dtypes: float64(7)\n",
      "memory usage: 115.0 MB\n"
     ]
    }
   ],
   "source": [
    "raw_zillow.info(show_counts = True)"
   ]
  },
  {
   "cell_type": "markdown",
   "id": "e85c7371",
   "metadata": {},
   "source": [
    "### All datatypes are floats :)\n",
    "### ... <i>but, it looks like we have some null values</i>"
   ]
  },
  {
   "cell_type": "code",
   "execution_count": 55,
   "id": "3cf07ef9",
   "metadata": {},
   "outputs": [
    {
     "data": {
      "text/plain": [
       "yearbuilt                       9337\n",
       "calculatedfinishedsquarefeet    8484\n",
       "regionidzip                     3387\n",
       "taxvaluedollarcnt                493\n",
       "bathroomcnt                       11\n",
       "bedroomcnt                        11\n",
       "fips                               0\n",
       "dtype: int64"
      ]
     },
     "execution_count": 55,
     "metadata": {},
     "output_type": "execute_result"
    }
   ],
   "source": [
    "raw_zillow.isna().sum().sort_values(ascending = False)"
   ]
  },
  {
   "cell_type": "code",
   "execution_count": 57,
   "id": "8ae27037",
   "metadata": {},
   "outputs": [
    {
     "data": {
      "text/html": [
       "<div>\n",
       "<style scoped>\n",
       "    .dataframe tbody tr th:only-of-type {\n",
       "        vertical-align: middle;\n",
       "    }\n",
       "\n",
       "    .dataframe tbody tr th {\n",
       "        vertical-align: top;\n",
       "    }\n",
       "\n",
       "    .dataframe thead th {\n",
       "        text-align: right;\n",
       "    }\n",
       "</style>\n",
       "<table border=\"1\" class=\"dataframe\">\n",
       "  <thead>\n",
       "    <tr style=\"text-align: right;\">\n",
       "      <th></th>\n",
       "      <th>bathroomcnt</th>\n",
       "      <th>bedroomcnt</th>\n",
       "      <th>calculatedfinishedsquarefeet</th>\n",
       "      <th>fips</th>\n",
       "      <th>regionidzip</th>\n",
       "      <th>yearbuilt</th>\n",
       "      <th>taxvaluedollarcnt</th>\n",
       "    </tr>\n",
       "  </thead>\n",
       "  <tbody>\n",
       "    <tr>\n",
       "      <th>0</th>\n",
       "      <td>0.0</td>\n",
       "      <td>0.0</td>\n",
       "      <td>NaN</td>\n",
       "      <td>6037.0</td>\n",
       "      <td>96337.0</td>\n",
       "      <td>NaN</td>\n",
       "      <td>27516.0</td>\n",
       "    </tr>\n",
       "    <tr>\n",
       "      <th>1</th>\n",
       "      <td>0.0</td>\n",
       "      <td>0.0</td>\n",
       "      <td>NaN</td>\n",
       "      <td>6037.0</td>\n",
       "      <td>97329.0</td>\n",
       "      <td>NaN</td>\n",
       "      <td>10.0</td>\n",
       "    </tr>\n",
       "    <tr>\n",
       "      <th>2</th>\n",
       "      <td>0.0</td>\n",
       "      <td>0.0</td>\n",
       "      <td>NaN</td>\n",
       "      <td>6037.0</td>\n",
       "      <td>97330.0</td>\n",
       "      <td>NaN</td>\n",
       "      <td>10.0</td>\n",
       "    </tr>\n",
       "    <tr>\n",
       "      <th>3</th>\n",
       "      <td>0.0</td>\n",
       "      <td>0.0</td>\n",
       "      <td>NaN</td>\n",
       "      <td>6037.0</td>\n",
       "      <td>97330.0</td>\n",
       "      <td>NaN</td>\n",
       "      <td>2108.0</td>\n",
       "    </tr>\n",
       "    <tr>\n",
       "      <th>5</th>\n",
       "      <td>0.0</td>\n",
       "      <td>0.0</td>\n",
       "      <td>NaN</td>\n",
       "      <td>6037.0</td>\n",
       "      <td>96026.0</td>\n",
       "      <td>NaN</td>\n",
       "      <td>124.0</td>\n",
       "    </tr>\n",
       "    <tr>\n",
       "      <th>...</th>\n",
       "      <td>...</td>\n",
       "      <td>...</td>\n",
       "      <td>...</td>\n",
       "      <td>...</td>\n",
       "      <td>...</td>\n",
       "      <td>...</td>\n",
       "      <td>...</td>\n",
       "    </tr>\n",
       "    <tr>\n",
       "      <th>2152823</th>\n",
       "      <td>0.0</td>\n",
       "      <td>0.0</td>\n",
       "      <td>NaN</td>\n",
       "      <td>6059.0</td>\n",
       "      <td>96979.0</td>\n",
       "      <td>NaN</td>\n",
       "      <td>2568893.0</td>\n",
       "    </tr>\n",
       "    <tr>\n",
       "      <th>2152844</th>\n",
       "      <td>0.0</td>\n",
       "      <td>0.0</td>\n",
       "      <td>NaN</td>\n",
       "      <td>6111.0</td>\n",
       "      <td>97097.0</td>\n",
       "      <td>NaN</td>\n",
       "      <td>92679.0</td>\n",
       "    </tr>\n",
       "    <tr>\n",
       "      <th>2152854</th>\n",
       "      <td>0.0</td>\n",
       "      <td>0.0</td>\n",
       "      <td>NaN</td>\n",
       "      <td>6037.0</td>\n",
       "      <td>96117.0</td>\n",
       "      <td>NaN</td>\n",
       "      <td>1198476.0</td>\n",
       "    </tr>\n",
       "    <tr>\n",
       "      <th>2152857</th>\n",
       "      <td>0.0</td>\n",
       "      <td>0.0</td>\n",
       "      <td>NaN</td>\n",
       "      <td>6059.0</td>\n",
       "      <td>96952.0</td>\n",
       "      <td>NaN</td>\n",
       "      <td>1087111.0</td>\n",
       "    </tr>\n",
       "    <tr>\n",
       "      <th>2152860</th>\n",
       "      <td>0.0</td>\n",
       "      <td>0.0</td>\n",
       "      <td>NaN</td>\n",
       "      <td>6059.0</td>\n",
       "      <td>96954.0</td>\n",
       "      <td>NaN</td>\n",
       "      <td>208057.0</td>\n",
       "    </tr>\n",
       "  </tbody>\n",
       "</table>\n",
       "<p>9337 rows × 7 columns</p>\n",
       "</div>"
      ],
      "text/plain": [
       "         bathroomcnt  bedroomcnt  calculatedfinishedsquarefeet    fips  \\\n",
       "0                0.0         0.0                           NaN  6037.0   \n",
       "1                0.0         0.0                           NaN  6037.0   \n",
       "2                0.0         0.0                           NaN  6037.0   \n",
       "3                0.0         0.0                           NaN  6037.0   \n",
       "5                0.0         0.0                           NaN  6037.0   \n",
       "...              ...         ...                           ...     ...   \n",
       "2152823          0.0         0.0                           NaN  6059.0   \n",
       "2152844          0.0         0.0                           NaN  6111.0   \n",
       "2152854          0.0         0.0                           NaN  6037.0   \n",
       "2152857          0.0         0.0                           NaN  6059.0   \n",
       "2152860          0.0         0.0                           NaN  6059.0   \n",
       "\n",
       "         regionidzip  yearbuilt  taxvaluedollarcnt  \n",
       "0            96337.0        NaN            27516.0  \n",
       "1            97329.0        NaN               10.0  \n",
       "2            97330.0        NaN               10.0  \n",
       "3            97330.0        NaN             2108.0  \n",
       "5            96026.0        NaN              124.0  \n",
       "...              ...        ...                ...  \n",
       "2152823      96979.0        NaN          2568893.0  \n",
       "2152844      97097.0        NaN            92679.0  \n",
       "2152854      96117.0        NaN          1198476.0  \n",
       "2152857      96952.0        NaN          1087111.0  \n",
       "2152860      96954.0        NaN           208057.0  \n",
       "\n",
       "[9337 rows x 7 columns]"
      ]
     },
     "execution_count": 57,
     "metadata": {},
     "output_type": "execute_result"
    }
   ],
   "source": [
    "raw_zillow[raw_zillow.yearbuilt.isna()]"
   ]
  },
  {
   "cell_type": "code",
   "execution_count": 72,
   "id": "3ab7b061",
   "metadata": {},
   "outputs": [
    {
     "data": {
      "text/plain": [
       "0.004337015406925568"
      ]
     },
     "execution_count": 72,
     "metadata": {},
     "output_type": "execute_result"
    }
   ],
   "source": [
    "(raw_zillow.yearbuilt.isna().sum() / raw_zillow.shape[0])"
   ]
  },
  {
   "cell_type": "code",
   "execution_count": null,
   "id": "cd2f78f6",
   "metadata": {},
   "outputs": [],
   "source": []
  },
  {
   "cell_type": "code",
   "execution_count": null,
   "id": "9eba5dd0",
   "metadata": {},
   "outputs": [],
   "source": []
  },
  {
   "cell_type": "markdown",
   "id": "b967b401",
   "metadata": {},
   "source": [
    "### 03 Explore"
   ]
  },
  {
   "cell_type": "code",
   "execution_count": null,
   "id": "15804085",
   "metadata": {},
   "outputs": [],
   "source": []
  },
  {
   "cell_type": "markdown",
   "id": "378c43c4",
   "metadata": {},
   "source": [
    "### 04 Model"
   ]
  },
  {
   "cell_type": "code",
   "execution_count": null,
   "id": "49685853",
   "metadata": {},
   "outputs": [],
   "source": []
  },
  {
   "cell_type": "markdown",
   "id": "2bad58b5",
   "metadata": {},
   "source": [
    "### 05 Evaluate"
   ]
  },
  {
   "cell_type": "code",
   "execution_count": null,
   "id": "c10d4708",
   "metadata": {},
   "outputs": [],
   "source": []
  },
  {
   "cell_type": "markdown",
   "id": "69dd980c",
   "metadata": {},
   "source": [
    "### 06 Test"
   ]
  },
  {
   "cell_type": "code",
   "execution_count": null,
   "id": "cf64c137",
   "metadata": {},
   "outputs": [],
   "source": []
  },
  {
   "cell_type": "markdown",
   "id": "de893e7e",
   "metadata": {},
   "source": [
    "## Conclusions\n",
    "<hr>"
   ]
  },
  {
   "cell_type": "markdown",
   "id": "c18d5dbc",
   "metadata": {},
   "source": [
    "### Key Findings\n",
    ">These were my key findings."
   ]
  },
  {
   "cell_type": "code",
   "execution_count": null,
   "id": "df67cdca",
   "metadata": {},
   "outputs": [],
   "source": []
  },
  {
   "cell_type": "markdown",
   "id": "44eeb6e8",
   "metadata": {},
   "source": [
    "### Recommendations\n",
    ">These are my recommendations based on those key findings."
   ]
  },
  {
   "cell_type": "code",
   "execution_count": null,
   "id": "d843c4d4",
   "metadata": {},
   "outputs": [],
   "source": []
  },
  {
   "cell_type": "markdown",
   "id": "4c11b0cd",
   "metadata": {},
   "source": [
    "### Takeaways\n",
    ">Here are my final takeaways from the project and, if I had more time, these would be my next steps."
   ]
  },
  {
   "cell_type": "code",
   "execution_count": null,
   "id": "1a883bdc",
   "metadata": {},
   "outputs": [],
   "source": []
  }
 ],
 "metadata": {
  "kernelspec": {
   "display_name": "Python 3",
   "language": "python",
   "name": "python3"
  },
  "language_info": {
   "codemirror_mode": {
    "name": "ipython",
    "version": 3
   },
   "file_extension": ".py",
   "mimetype": "text/x-python",
   "name": "python",
   "nbconvert_exporter": "python",
   "pygments_lexer": "ipython3",
   "version": "3.8.8"
  }
 },
 "nbformat": 4,
 "nbformat_minor": 5
}
