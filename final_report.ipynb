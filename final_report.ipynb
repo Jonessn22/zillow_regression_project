{
 "cells": [
  {
   "cell_type": "markdown",
   "id": "411fe4f2",
   "metadata": {},
   "source": [
    "# Beating the Zestimate® | Predicting Home Values\n",
    "Stephanie N. Jones<br>\n",
    "Data Scientist<br>\n",
    "Codeup | Hopper Cohort<br>\n",
    "Monday, December 13, 2021"
   ]
  },
  {
   "cell_type": "markdown",
   "id": "f6ddba85",
   "metadata": {},
   "source": [
    "## Project Summary\n",
    "<hr>\n",
    "\n",
    "### Project Overview\n",
    ">This is an overview of the project.\n",
    "### Deliverables\n",
    "    - Final Report (this notebook) and Presentation\n",
    "    - Github Repository with README.md and reproducible project files\n",
    "    - Python Function Modules (acquire.py and prepare.py, at minimum)\n",
    ">Data Dictionary"
   ]
  },
  {
   "cell_type": "markdown",
   "id": "badd276d",
   "metadata": {},
   "source": [
    "## Business Goals\n",
    "<hr>\n",
    "\n",
    "### Primary Goal #1 | Predict Home Values\n",
    ">Construct Machine Learning model by finding key drivers that predicts property tax assessed values <b>`taxvaluedollarcnt`</b> of Single Family Properties with transactions during 2017\n",
    "### Primary Goal #2 | Beat Zestimate®\n",
    ">Improve existing Zillow model for predicting home values \n",
    "### Secondary Goal | Property Locations\n",
    ">City and state of each property"
   ]
  },
  {
   "cell_type": "markdown",
   "id": "c6487e3a",
   "metadata": {},
   "source": [
    "## Executive Summary\n",
    "<hr>\n",
    "\n",
    "### Initial Questions and Hypothesis\n",
    ">Question 1?<br>\n",
    "Question 2?<br>\n",
    "Question 3?<br>\n",
    "Question 4?<br>\n",
    "\n",
    ">Initial Hypothesis\n",
    "### Conclusions\n",
    ">Key findings\n",
    "\n",
    ">Recommendations\n",
    "\n",
    ">Takeaways and Next Steps"
   ]
  },
  {
   "cell_type": "markdown",
   "id": "02fd596e",
   "metadata": {},
   "source": [
    "## Process | Data Science Pipeline\n",
    "<hr>\n",
    "\n",
    "00 Plan<br>\n",
    "01 Acquire<br>\n",
    "02 Prepare<br>\n",
    "03 Explore<br>\n",
    "04 Model<br>\n",
    "05 Evaluate<br>\n",
    "06 Test"
   ]
  },
  {
   "cell_type": "markdown",
   "id": "4fc0ce3d",
   "metadata": {},
   "source": [
    "### 00 Plan"
   ]
  },
  {
   "cell_type": "code",
   "execution_count": null,
   "id": "d3341a32",
   "metadata": {},
   "outputs": [],
   "source": []
  },
  {
   "cell_type": "markdown",
   "id": "4bde2692",
   "metadata": {},
   "source": [
    "### 01 Acquire"
   ]
  },
  {
   "cell_type": "code",
   "execution_count": null,
   "id": "1369bf6c",
   "metadata": {},
   "outputs": [],
   "source": []
  },
  {
   "cell_type": "markdown",
   "id": "f1634846",
   "metadata": {},
   "source": [
    "### 02 Prepare"
   ]
  },
  {
   "cell_type": "code",
   "execution_count": null,
   "id": "890275e4",
   "metadata": {},
   "outputs": [],
   "source": []
  },
  {
   "cell_type": "markdown",
   "id": "da64169f",
   "metadata": {},
   "source": [
    "### 03 Explore"
   ]
  },
  {
   "cell_type": "code",
   "execution_count": null,
   "id": "c3cd0a15",
   "metadata": {},
   "outputs": [],
   "source": []
  },
  {
   "cell_type": "markdown",
   "id": "3ea7be97",
   "metadata": {},
   "source": [
    "### 04 Model"
   ]
  },
  {
   "cell_type": "code",
   "execution_count": null,
   "id": "6e5cb4bc",
   "metadata": {},
   "outputs": [],
   "source": []
  },
  {
   "cell_type": "markdown",
   "id": "db2d8b31",
   "metadata": {},
   "source": [
    "### 05 Evaluate"
   ]
  },
  {
   "cell_type": "code",
   "execution_count": null,
   "id": "ed42a97f",
   "metadata": {},
   "outputs": [],
   "source": []
  },
  {
   "cell_type": "markdown",
   "id": "32740f18",
   "metadata": {},
   "source": [
    "### 06 Test"
   ]
  },
  {
   "cell_type": "code",
   "execution_count": null,
   "id": "b9ddaa5e",
   "metadata": {},
   "outputs": [],
   "source": []
  },
  {
   "cell_type": "markdown",
   "id": "d1be0260",
   "metadata": {},
   "source": [
    "## Conclusions\n",
    "<hr>"
   ]
  },
  {
   "cell_type": "markdown",
   "id": "29f6ec46",
   "metadata": {},
   "source": [
    "### Key Findings\n",
    ">These were my key findings."
   ]
  },
  {
   "cell_type": "code",
   "execution_count": null,
   "id": "93783457",
   "metadata": {},
   "outputs": [],
   "source": []
  },
  {
   "cell_type": "markdown",
   "id": "94641696",
   "metadata": {},
   "source": [
    "### Recommendations\n",
    ">These are my recommendations based on those key findings."
   ]
  },
  {
   "cell_type": "code",
   "execution_count": null,
   "id": "e0611969",
   "metadata": {},
   "outputs": [],
   "source": []
  },
  {
   "cell_type": "markdown",
   "id": "4d6a07b6",
   "metadata": {},
   "source": [
    "### Takeaways\n",
    ">Here are my final takeaways from the project and, if I had more time, these would be my next steps."
   ]
  },
  {
   "cell_type": "code",
   "execution_count": null,
   "id": "59d2b7f3",
   "metadata": {},
   "outputs": [],
   "source": []
  }
 ],
 "metadata": {
  "kernelspec": {
   "display_name": "Python 3",
   "language": "python",
   "name": "python3"
  },
  "language_info": {
   "codemirror_mode": {
    "name": "ipython",
    "version": 3
   },
   "file_extension": ".py",
   "mimetype": "text/x-python",
   "name": "python",
   "nbconvert_exporter": "python",
   "pygments_lexer": "ipython3",
   "version": "3.8.8"
  }
 },
 "nbformat": 4,
 "nbformat_minor": 5
}
