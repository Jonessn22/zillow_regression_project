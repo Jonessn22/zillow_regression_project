{
 "cells": [
  {
   "cell_type": "markdown",
   "id": "d543d4bd",
   "metadata": {},
   "source": [
    "# Beating the Zestimate® | Predicting Home Values\n",
    "Stephanie N. Jones<br>\n",
    "Data Scientist<br>\n",
    "Codeup | Hopper Cohort<br>\n",
    "Monday, December 13, 2021"
   ]
  },
  {
   "cell_type": "markdown",
   "id": "07ac4daf",
   "metadata": {},
   "source": [
    "## Project Summary\n",
    "<hr>\n",
    "\n",
    "### Project Overview\n",
    "This is an overview of the project.\n",
    "\n",
    "### Deliverables\n",
    "    - Final Report (this notebook) and Presentation\n",
    "    - Github Repository with README.md and reproducible project files\n",
    "    - Python Function Modules (acquire.py and prepare.py, at minimum)\n",
    ">Data Dictionary"
   ]
  },
  {
   "cell_type": "markdown",
   "id": "d40e9097",
   "metadata": {},
   "source": [
    "## Business Goals\n",
    "<hr>\n",
    "\n",
    "### Primary Goal #1 | Predict Home Values\n",
    "Construct Machine Learning model by finding key drivers that predicts property tax assessed values <b>`taxvaluedollarcnt`</b> of Single Family Properties with transactions during 2017\n",
    "\n",
    "### Primary Goal #2 | Beat Zestimate®\n",
    "Improve existing Zillow model for predicting home values \n",
    "\n",
    "### Secondary Goal | Property Locations\n",
    "City and state of each property"
   ]
  },
  {
   "cell_type": "markdown",
   "id": "9b6591dd",
   "metadata": {},
   "source": [
    "## Executive Summary\n",
    "<hr>\n",
    "\n",
    "### Initial Questions and Hypothesis\n",
    ">Question 1?<br>\n",
    "Question 2?<br>\n",
    "Question 3?<br>\n",
    "Question 4?<br>\n",
    "\n",
    ">Initial Hypothesis"
   ]
  },
  {
   "cell_type": "markdown",
   "id": "9a4bad26",
   "metadata": {},
   "source": [
    "### Conclusions\n",
    ">Key findings\n",
    "\n",
    ">Recommendations\n",
    "\n",
    ">Takeaways and Next Steps"
   ]
  },
  {
   "cell_type": "markdown",
   "id": "920c0f04",
   "metadata": {},
   "source": [
    "## Process | Data Science Pipeline\n",
    "<hr>\n",
    "\n",
    "00 Plan<br>\n",
    "01 Acquire<br>\n",
    "02 Prepare<br>\n",
    "03 Explore<br>\n",
    "04 Model<br>\n",
    "05 Evaluate<br>\n",
    "06 Test"
   ]
  },
  {
   "cell_type": "markdown",
   "id": "416bb407",
   "metadata": {},
   "source": [
    "### 00 Plan"
   ]
  },
  {
   "cell_type": "code",
   "execution_count": null,
   "id": "9321ae62",
   "metadata": {},
   "outputs": [],
   "source": []
  },
  {
   "cell_type": "markdown",
   "id": "56dd43ba",
   "metadata": {},
   "source": [
    "### 01 Acquire"
   ]
  },
  {
   "cell_type": "code",
   "execution_count": null,
   "id": "35599c98",
   "metadata": {},
   "outputs": [],
   "source": []
  },
  {
   "cell_type": "markdown",
   "id": "b151dba9",
   "metadata": {},
   "source": [
    "### 02 Prepare"
   ]
  },
  {
   "cell_type": "code",
   "execution_count": null,
   "id": "9eba5dd0",
   "metadata": {},
   "outputs": [],
   "source": []
  },
  {
   "cell_type": "markdown",
   "id": "b967b401",
   "metadata": {},
   "source": [
    "### 03 Explore"
   ]
  },
  {
   "cell_type": "code",
   "execution_count": null,
   "id": "15804085",
   "metadata": {},
   "outputs": [],
   "source": []
  },
  {
   "cell_type": "markdown",
   "id": "378c43c4",
   "metadata": {},
   "source": [
    "### 04 Model"
   ]
  },
  {
   "cell_type": "code",
   "execution_count": null,
   "id": "49685853",
   "metadata": {},
   "outputs": [],
   "source": []
  },
  {
   "cell_type": "markdown",
   "id": "2bad58b5",
   "metadata": {},
   "source": [
    "### 05 Evaluate"
   ]
  },
  {
   "cell_type": "code",
   "execution_count": null,
   "id": "c10d4708",
   "metadata": {},
   "outputs": [],
   "source": []
  },
  {
   "cell_type": "markdown",
   "id": "69dd980c",
   "metadata": {},
   "source": [
    "### 06 Test"
   ]
  },
  {
   "cell_type": "code",
   "execution_count": null,
   "id": "cf64c137",
   "metadata": {},
   "outputs": [],
   "source": []
  },
  {
   "cell_type": "markdown",
   "id": "de893e7e",
   "metadata": {},
   "source": [
    "## Conclusions\n",
    "<hr>"
   ]
  },
  {
   "cell_type": "markdown",
   "id": "c18d5dbc",
   "metadata": {},
   "source": [
    "### Key Findings\n",
    ">These were my key findings."
   ]
  },
  {
   "cell_type": "code",
   "execution_count": null,
   "id": "df67cdca",
   "metadata": {},
   "outputs": [],
   "source": []
  },
  {
   "cell_type": "markdown",
   "id": "44eeb6e8",
   "metadata": {},
   "source": [
    "### Recommendations\n",
    ">These are my recommendations based on those key findings."
   ]
  },
  {
   "cell_type": "code",
   "execution_count": null,
   "id": "d843c4d4",
   "metadata": {},
   "outputs": [],
   "source": []
  },
  {
   "cell_type": "markdown",
   "id": "4c11b0cd",
   "metadata": {},
   "source": [
    "### Takeaways\n",
    ">Here are my final takeaways from the project and, if I had more time, these would be my next steps."
   ]
  },
  {
   "cell_type": "code",
   "execution_count": null,
   "id": "1a883bdc",
   "metadata": {},
   "outputs": [],
   "source": []
  }
 ],
 "metadata": {
  "kernelspec": {
   "display_name": "Python 3",
   "language": "python",
   "name": "python3"
  },
  "language_info": {
   "codemirror_mode": {
    "name": "ipython",
    "version": 3
   },
   "file_extension": ".py",
   "mimetype": "text/x-python",
   "name": "python",
   "nbconvert_exporter": "python",
   "pygments_lexer": "ipython3",
   "version": "3.8.8"
  }
 },
 "nbformat": 4,
 "nbformat_minor": 5
}
